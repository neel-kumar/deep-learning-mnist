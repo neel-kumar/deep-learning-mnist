{
 "cells": [
  {
   "cell_type": "code",
   "execution_count": 1,
   "metadata": {},
   "outputs": [],
   "source": [
    "import pickle\n",
    "import torch\n",
    "import torch.nn.functional as F\n",
    "\n",
    "import matplotlib.pyplot as plt\n",
    "import matplotlib.image as mpimg\n",
    "import numpy as np\n",
    "import random"
   ]
  },
  {
   "cell_type": "code",
   "execution_count": 2,
   "metadata": {},
   "outputs": [],
   "source": [
    "# Taken from https://pytorch.org/tutorials/beginner/nn_tutorial.html\n",
    "from pathlib import Path\n",
    "import requests\n",
    "\n",
    "DATA_PATH = Path(\"data\")\n",
    "PATH = DATA_PATH / \"mnist\"\n",
    "\n",
    "PATH.mkdir(parents=True, exist_ok=True)\n",
    "\n",
    "URL = \"http://deeplearning.net/data/mnist/\"\n",
    "FILENAME = \"mnist.pkl.gz\"\n",
    "\n",
    "if not (PATH / FILENAME).exists():\n",
    "        content = requests.get(URL + FILENAME).content\n",
    "        (PATH / FILENAME).open(\"wb\").write(content)"
   ]
  },
  {
   "cell_type": "code",
   "execution_count": 3,
   "metadata": {},
   "outputs": [],
   "source": [
    "import gzip\n",
    "\n",
    "with gzip.open((PATH / FILENAME).as_posix(), \"rb\") as f:\n",
    "        mnist = pickle.load(f, encoding=\"latin-1\")"
   ]
  },
  {
   "cell_type": "code",
   "execution_count": 4,
   "metadata": {},
   "outputs": [],
   "source": [
    "(training, validation, test) = mnist\n",
    " \n",
    "_train, y_train = torch.tensor(training[0]), torch.tensor(training[1])\n",
    "x_val, y_val = torch.tensor(validation[0]), torch.tensor(validation[1])\n",
    "x_test, y_test = torch.tensor(test[0]), torch.tensor(test[1])"
   ]
  },
  {
   "cell_type": "code",
   "execution_count": 5,
   "metadata": {},
   "outputs": [],
   "source": [
    "x_train, y_train = torch.tensor(training[0]), torch.tensor(training[1])\n",
    "x_val, y_val = torch.tensor(validation[0]), torch.tensor(validation[1])\n",
    "x_test, y_test = torch.tensor(test[0]), torch.tensor(test[1])"
   ]
  },
  {
   "cell_type": "code",
   "execution_count": 6,
   "metadata": {},
   "outputs": [
    {
     "data": {
      "text/plain": [
       "50000"
      ]
     },
     "execution_count": 6,
     "metadata": {},
     "output_type": "execute_result"
    }
   ],
   "source": [
    "len(training[0])"
   ]
  },
  {
   "cell_type": "code",
   "execution_count": 7,
   "metadata": {},
   "outputs": [
    {
     "data": {
      "text/plain": [
       "784"
      ]
     },
     "execution_count": 7,
     "metadata": {},
     "output_type": "execute_result"
    }
   ],
   "source": [
    "len(training[0][0])"
   ]
  },
  {
   "cell_type": "code",
   "execution_count": 8,
   "metadata": {},
   "outputs": [],
   "source": [
    "def image(a):\n",
    "    img = np.reshape(a, (28, 28))\n",
    "    imgplot = plt.imshow(img, cmap = \"gray\")\n",
    "    plt.show()"
   ]
  },
  {
   "cell_type": "code",
   "execution_count": 9,
   "metadata": {},
   "outputs": [
    {
     "data": {
      "image/png": "[encoded data removed]",
      "text/plain": [
       "<Figure size 432x288 with 1 Axes>"
      ]
     },
     "metadata": {
      "needs_background": "light"
     },
     "output_type": "display_data"
    }
   ],
   "source": [
    "image(training[0][0])"
   ]
  },
  {
   "cell_type": "code",
   "execution_count": 10,
   "metadata": {},
   "outputs": [
    {
     "data": {
      "text/plain": [
       "5"
      ]
     },
     "execution_count": 10,
     "metadata": {},
     "output_type": "execute_result"
    }
   ],
   "source": [
    "training[1][0]"
   ]
  },
  {
   "cell_type": "code",
   "execution_count": 11,
   "metadata": {},
   "outputs": [],
   "source": [
    "def err(out, label):\n",
    "    match = out.argmax(dim=1) != label\n",
    "    a = match.float().mean()\n",
    "    return a"
   ]
  },
  {
   "cell_type": "code",
   "execution_count": 12,
   "metadata": {},
   "outputs": [],
   "source": [
    "def traindata(t):\n",
    "    x = random.randint(0, 49999)\n",
    "    image(t[0][x])\n",
    "    print('Label:', t[1][x])"
   ]
  },
  {
   "cell_type": "code",
   "execution_count": 13,
   "metadata": {},
   "outputs": [
    {
     "data": {
      "image/png": "[encoded data removed]",
      "text/plain": [
       "<Figure size 432x288 with 1 Axes>"
      ]
     },
     "metadata": {
      "needs_background": "light"
     },
     "output_type": "display_data"
    },
    {
     "name": "stdout",
     "output_type": "stream",
     "text": [
      "Label: 1\n"
     ]
    }
   ],
   "source": [
    "traindata(training)"
   ]
  },
  {
   "cell_type": "code",
   "execution_count": 14,
   "metadata": {},
   "outputs": [],
   "source": [
    "loss_func = F.cross_entropy"
   ]
  },
  {
   "cell_type": "code",
   "execution_count": 15,
   "metadata": {},
   "outputs": [],
   "source": [
    "b1 = torch.randn(1, 16, requires_grad=True)\n",
    "b2 = torch.randn(1, 16, requires_grad=True)\n",
    "b3 = torch.randn(1, 10, requires_grad=True)\n",
    "w1 = torch.randn(784, 16, requires_grad=True)\n",
    "w2 = torch.randn(16, 16, requires_grad=True)\n",
    "w3 = torch.randn(16, 10, requires_grad=True)"
   ]
  },
  {
   "cell_type": "code",
   "execution_count": 16,
   "metadata": {},
   "outputs": [],
   "source": [
    "# 3 fully connected layers 784 x 16 x 10\n",
    "# This model is running on CPU not GPU\n",
    "def model(d):\n",
    "    # d is a tensor of 1 by 784\n",
    "    l1 = d @ w1 + b1\n",
    "    l2 = l1 @ w2 + b2\n",
    "    l_out = l2 @ w3 + b3\n",
    "    return l_out"
   ]
  },
  {
   "cell_type": "code",
   "execution_count": 17,
   "metadata": {},
   "outputs": [],
   "source": [
    "def zero_grad():\n",
    "    global b1, b2, b3, w1, w2, w3\n",
    "    b1.grad.zero_()\n",
    "    b2.grad.zero_()\n",
    "    b3.grad.zero_()\n",
    "    w1.grad.zero_()\n",
    "    w2.grad.zero_()\n",
    "    w3.grad.zero_()"
   ]
  },
  {
   "cell_type": "code",
   "execution_count": 18,
   "metadata": {},
   "outputs": [],
   "source": [
    "def accuracy(out, label):\n",
    "    match = out.argmax(dim=1) == label\n",
    "    a = match.float().mean()\n",
    "    return a\n",
    "\n",
    "def err(out, label):\n",
    "    match = out.argmax(dim=1) != label\n",
    "    a = match.float().mean()\n",
    "    return a"
   ]
  },
  {
   "cell_type": "code",
   "execution_count": 19,
   "metadata": {},
   "outputs": [],
   "source": [
    "lr = 0.01\n",
    "epochs = 100\n",
    "bs = 64\n",
    "n = len(x_train)"
   ]
  },
  {
   "cell_type": "code",
   "execution_count": 20,
   "metadata": {},
   "outputs": [
    {
     "name": "stdout",
     "output_type": "stream",
     "text": [
      "Initial acc 0.0803999975323677\n"
     ]
    }
   ],
   "source": [
    "with torch.no_grad():\n",
    "    pred = model(x_val)\n",
    "    print(f'Initial acc {accuracy(pred, y_val)}')"
   ]
  },
  {
   "cell_type": "code",
   "execution_count": 21,
   "metadata": {},
   "outputs": [],
   "source": [
    "def fit():\n",
    "    global b1, b2, b3, w1, w2, w3\n",
    "    for e in range(epochs):\n",
    "        for i in range(int((n - 1)/bs) + 1):\n",
    "            start = bs * i\n",
    "            end = bs * (i + 1)\n",
    "            xb = x_train[start:end]\n",
    "            yb = y_train[start:end]\n",
    "            pred = model(xb)\n",
    "            loss = loss_func(pred, yb)\n",
    "            loss.backward()\n",
    "        \n",
    "            with torch.no_grad():\n",
    "                b1 -= b1.grad * lr\n",
    "                b2 -= b2.grad * lr\n",
    "                b3 -= b3.grad * lr\n",
    "                w1 -= w1.grad * lr\n",
    "                w2 -= w2.grad * lr\n",
    "                w3 -= w3.grad * lr\n",
    "        \n",
    "                zero_grad()\n",
    "        if e % 10 == 0:\n",
    "            print(f'Epoch {e} acc {accuracy(model(x_val), y_val)}')\n",
    "\n",
    "    print(f'Final acc {accuracy(model(x_val), y_val)}')"
   ]
  },
  {
   "cell_type": "code",
   "execution_count": 22,
   "metadata": {},
   "outputs": [
    {
     "name": "stdout",
     "output_type": "stream",
     "text": [
      "Epoch 0 acc 0.4490000009536743\n",
      "Epoch 10 acc 0.7132999897003174\n",
      "Epoch 20 acc 0.7753999829292297\n",
      "Epoch 30 acc 0.8159000277519226\n",
      "Epoch 40 acc 0.8379999995231628\n",
      "Epoch 50 acc 0.8532999753952026\n",
      "Epoch 60 acc 0.8633999824523926\n",
      "Epoch 70 acc 0.8702999949455261\n",
      "Epoch 80 acc 0.8752999901771545\n",
      "Epoch 90 acc 0.8808000087738037\n",
      "Final acc 0.885200023651123\n"
     ]
    }
   ],
   "source": [
    "fit()"
   ]
  },
  {
   "cell_type": "code",
   "execution_count": 23,
   "metadata": {},
   "outputs": [
    {
     "name": "stdout",
     "output_type": "stream",
     "text": [
      "actual 0 pred 0\n"
     ]
    }
   ],
   "source": [
    "# Test model on a random sample\n",
    "i = random.randint(0, 49999)\n",
    "pred = model(x_train[i])\n",
    "print(f\"actual {y_train[i]} pred {pred.argmax()}\")"
   ]
  },
  {
   "cell_type": "code",
   "execution_count": 24,
   "metadata": {},
   "outputs": [
    {
     "data": {
      "text/plain": [
       "tensor(0.8718)"
      ]
     },
     "execution_count": 24,
     "metadata": {},
     "output_type": "execute_result"
    }
   ],
   "source": [
    "# Average accuray for complete dataset\n",
    "pred = model(x_train)\n",
    "match = pred.argmax(dim=1) == y_train\n",
    "match.float().mean()"
   ]
  },
  {
   "cell_type": "code",
   "execution_count": 25,
   "metadata": {},
   "outputs": [],
   "source": [
    "# Welcome to the world of torch.nn.Module to simplify model and parameter management\n",
    "\n",
    "from torch import nn\n",
    "\n",
    "class Mnist_NN(nn.Module):\n",
    "    def __init__(self):\n",
    "        super().__init__()\n",
    "        self.b1 = nn.Parameter(torch.randn(1, 16, requires_grad=True))\n",
    "        self.b2 = nn.Parameter(torch.randn(1, 16, requires_grad=True))\n",
    "        self.b3 = nn.Parameter(torch.randn(1, 10, requires_grad=True))\n",
    "        self.w1 = nn.Parameter(torch.randn(784, 16, requires_grad=True))\n",
    "        self.w2 = nn.Parameter(torch.randn(16, 16, requires_grad=True))\n",
    "        self.w3 = nn.Parameter(torch.randn(16, 10, requires_grad=True))\n",
    "\n",
    "    def forward(self, d):\n",
    "        l1 = d @ self.w1 + self.b1\n",
    "        l2 = l1 @ self.w2 + self.b2\n",
    "        l_out = l2 @ self.w3 + self.b3\n",
    "        return l_out"
   ]
  },
  {
   "cell_type": "code",
   "execution_count": 26,
   "metadata": {},
   "outputs": [],
   "source": [
    "def fit2():\n",
    "    for e in range(epochs):\n",
    "        for i in range(int((n - 1)/bs) + 1):\n",
    "            start = bs * i\n",
    "            end = bs * (i + 1)\n",
    "            xb = x_train[start:end]\n",
    "            yb = y_train[start:end]\n",
    "            pred = model(xb)\n",
    "            loss = loss_func(pred, yb)\n",
    "            loss.backward()\n",
    "        \n",
    "            with torch.no_grad():\n",
    "                for p in model.parameters():\n",
    "                    p -= p.grad * lr\n",
    "                model.zero_grad()\n",
    "        if e % 10 == 0:\n",
    "            print(f'Epoch {e} acc {accuracy(model(x_val), y_val)}')\n",
    "\n",
    "    print(f'Final acc {accuracy(model(x_val), y_val)}')"
   ]
  },
  {
   "cell_type": "code",
   "execution_count": 27,
   "metadata": {},
   "outputs": [],
   "source": [
    "model = Mnist_NN()"
   ]
  },
  {
   "cell_type": "code",
   "execution_count": 28,
   "metadata": {},
   "outputs": [
    {
     "name": "stdout",
     "output_type": "stream",
     "text": [
      "Epoch 0 acc 0.5547000169754028\n",
      "Epoch 10 acc 0.7666000127792358\n",
      "Epoch 20 acc 0.8210999965667725\n",
      "Epoch 30 acc 0.842199981212616\n",
      "Epoch 40 acc 0.8575999736785889\n",
      "Epoch 50 acc 0.8659999966621399\n",
      "Epoch 60 acc 0.8726000189781189\n",
      "Epoch 70 acc 0.8791999816894531\n",
      "Epoch 80 acc 0.8841999769210815\n",
      "Epoch 90 acc 0.8871999979019165\n",
      "Final acc 0.8902999758720398\n"
     ]
    }
   ],
   "source": [
    "fit2()"
   ]
  },
  {
   "cell_type": "code",
   "execution_count": 29,
   "metadata": {},
   "outputs": [
    {
     "data": {
      "text/plain": [
       "device(type='cuda')"
      ]
     },
     "execution_count": 29,
     "metadata": {},
     "output_type": "execute_result"
    }
   ],
   "source": [
    "dev = torch.device(\n",
    "    \"cuda\") if torch.cuda.is_available() else torch.device(\"cpu\")\n",
    "\n",
    "# dev = torch.device(\"cuda\")\n",
    "# dev = torch.device(\"cpu\")\n",
    "\n",
    "dev"
   ]
  },
  {
   "cell_type": "code",
   "execution_count": 30,
   "metadata": {},
   "outputs": [],
   "source": [
    "# Now run the model using GPU\n",
    "model_dev = Mnist_NN().to(dev)\n",
    "\n",
    "x_test_dev = x_test.to(dev)\n",
    "y_test_dev = y_test.to(dev)\n",
    "\n",
    "x_val_dev = x_val.to(dev)\n",
    "y_val_dev = y_val.to(dev)\n",
    "\n",
    "x_train_dev = x_train.to(dev)\n",
    "y_train_dev = y_train.to(dev)"
   ]
  },
  {
   "cell_type": "code",
   "execution_count": 31,
   "metadata": {},
   "outputs": [],
   "source": [
    "def fit3():\n",
    "    for e in range(epochs):\n",
    "        for i in range(int((n - 1)/bs) + 1):\n",
    "            start = bs * i\n",
    "            end = bs * (i + 1)\n",
    "            xb = x_train[start:end].to(dev)\n",
    "            yb = y_train[start:end].to(dev)\n",
    "            pred = model_dev(xb)\n",
    "            loss = loss_func(pred, yb)\n",
    "            loss.backward()\n",
    "        \n",
    "            with torch.no_grad():\n",
    "                for p in model_dev.parameters():\n",
    "                    p -= p.grad * lr\n",
    "                model_dev.zero_grad()\n",
    "        if e % 10 == 0:\n",
    "            print(f'Epoch {e} acc test {accuracy(model_dev(x_test_dev), y_test_dev)}')\n",
    "            print(f'Epoch {e} acc val {accuracy(model_dev(x_val_dev), y_val_dev)}')\n",
    "            print(f'Epoch {e} acc train {accuracy(model_dev(x_train_dev), y_train_dev)}')\n",
    "\n",
    "    print(f'Final acc test {accuracy(model_dev(x_test_dev), y_test_dev)}')\n",
    "    print(f'Final acc val {accuracy(model_dev(x_val_dev), y_val_dev)}')\n",
    "    print(f'Final acc train {accuracy(model_dev(x_train_dev), y_train_dev)}')"
   ]
  },
  {
   "cell_type": "code",
   "execution_count": 32,
   "metadata": {},
   "outputs": [
    {
     "name": "stdout",
     "output_type": "stream",
     "text": [
      "Epoch 0 acc test 0.43449997901916504\n",
      "Epoch 0 acc val 0.42879998683929443\n",
      "Epoch 0 acc train 0.4157399833202362\n",
      "Epoch 10 acc test 0.6543999910354614\n",
      "Epoch 10 acc val 0.6534000039100647\n",
      "Epoch 10 acc train 0.6346399784088135\n",
      "Epoch 20 acc test 0.7518999576568604\n",
      "Epoch 20 acc val 0.7561999559402466\n",
      "Epoch 20 acc train 0.7404599785804749\n",
      "Epoch 30 acc test 0.7949999570846558\n",
      "Epoch 30 acc val 0.7999999523162842\n",
      "Epoch 30 acc train 0.7858200073242188\n",
      "Epoch 40 acc test 0.8204999566078186\n",
      "Epoch 40 acc val 0.8264999985694885\n",
      "Epoch 40 acc train 0.8118799924850464\n",
      "Epoch 50 acc test 0.8363999724388123\n",
      "Epoch 50 acc val 0.8416000008583069\n",
      "Epoch 50 acc train 0.828819990158081\n",
      "Epoch 60 acc test 0.8483999967575073\n",
      "Epoch 60 acc val 0.8536999821662903\n",
      "Epoch 60 acc train 0.8412799835205078\n",
      "Epoch 70 acc test 0.8556999564170837\n",
      "Epoch 70 acc val 0.8611999750137329\n",
      "Epoch 70 acc train 0.850659966468811\n",
      "Epoch 80 acc test 0.863099992275238\n",
      "Epoch 80 acc val 0.8690999746322632\n",
      "Epoch 80 acc train 0.8578599691390991\n",
      "Epoch 90 acc test 0.8673999905586243\n",
      "Epoch 90 acc val 0.8738999962806702\n",
      "Epoch 90 acc train 0.8635599613189697\n",
      "Final acc test 0.8710999488830566\n",
      "Final acc val 0.8792999982833862\n",
      "Final acc train 0.8676999807357788\n"
     ]
    }
   ],
   "source": [
    "fit3()"
   ]
  },
  {
   "cell_type": "code",
   "execution_count": 33,
   "metadata": {},
   "outputs": [],
   "source": [
    "x = np.linspace(0, 101, 101)\n",
    "test_y_dev = torch.zeros(101, device=dev)\n",
    "val_y_dev = torch.zeros(101, device=dev)\n",
    "train_y_dev = torch.zeros(101, device=dev)"
   ]
  },
  {
   "cell_type": "code",
   "execution_count": 34,
   "metadata": {},
   "outputs": [],
   "source": [
    "# Train the model on GPU and keep track of accuracy on test, validation and training dataset to plot the trend\n",
    "model_dev = Mnist_NN().to(dev)\n",
    "def fit4():\n",
    "    test_y_dev[0] = accuracy(model_dev(x_test_dev), y_test_dev)\n",
    "    val_y_dev[0] = accuracy(model_dev(x_val_dev), y_val_dev)\n",
    "    train_y_dev[0] = accuracy(model_dev(x_train_dev), y_train_dev)\n",
    "    for e in range(epochs):\n",
    "        for i in range(int((n - 1)/bs) + 1):\n",
    "            start = bs * i\n",
    "            end = bs * (i + 1)\n",
    "            xb = x_train[start:end].to(dev)\n",
    "            yb = y_train[start:end].to(dev)\n",
    "            pred = model_dev(xb)\n",
    "            loss = loss_func(pred, yb)\n",
    "            loss.backward()\n",
    "        \n",
    "            with torch.no_grad():\n",
    "                for p in model_dev.parameters():\n",
    "                    p -= p.grad * lr\n",
    "                model_dev.zero_grad()\n",
    "                \n",
    "        with torch.no_grad():\n",
    "            test_y_dev[e + 1] = accuracy(model_dev(x_test_dev), y_test_dev)\n",
    "            val_y_dev[e + 1] = accuracy(model_dev(x_val_dev), y_val_dev)\n",
    "            train_y_dev[e + 1] = accuracy(model_dev(x_train_dev), y_train_dev)\n",
    "        \n",
    "    plt.plot(x, test_y_dev.cpu().numpy(), label='test')\n",
    "    plt.plot(x, val_y_dev.cpu().numpy(), label='val')\n",
    "    plt.plot(x, train_y_dev.cpu().numpy(), label='train')\n",
    "    plt.xlabel('epochs')\n",
    "    plt.ylabel('acc')\n",
    "    plt.title(\"Accuracy Plot\")\n",
    "    plt.legend()\n",
    "    plt.show()"
   ]
  },
  {
   "cell_type": "code",
   "execution_count": 35,
   "metadata": {},
   "outputs": [
    {
     "data": {
      "image/png": "[encoded data removed]",
      "text/plain": [
       "<Figure size 432x288 with 1 Axes>"
      ]
     },
     "metadata": {
      "needs_background": "light"
     },
     "output_type": "display_data"
    }
   ],
   "source": [
    "fit4()"
   ]
  },
  {
   "cell_type": "code",
   "execution_count": 36,
   "metadata": {},
   "outputs": [
    {
     "name": "stdout",
     "output_type": "stream",
     "text": [
      "Final acc test 0.8807999491691589\n",
      "Final acc val 0.8885999917984009\n",
      "Final acc train 0.8742799758911133\n"
     ]
    }
   ],
   "source": [
    "print(f'Final acc test {test_y_dev[100]}')\n",
    "print(f'Final acc val {val_y_dev[100]}')\n",
    "print(f'Final acc train {train_y_dev[100]}')"
   ]
  },
  {
   "cell_type": "code",
   "execution_count": 37,
   "metadata": {},
   "outputs": [],
   "source": [
    "# The accuracy is close to 90%, I will try to increase the accuracy using CNN in a different notebook."
   ]
  },
  {
   "cell_type": "code",
   "execution_count": null,
   "metadata": {},
   "outputs": [],
   "source": []
  }
 ],
 "metadata": {
  "kernelspec": {
   "display_name": "Python 3",
   "language": "python",
   "name": "python3"
  },
  "language_info": {
   "codemirror_mode": {
    "name": "ipython",
    "version": 3
   },
   "file_extension": ".py",
   "mimetype": "text/x-python",
   "name": "python",
   "nbconvert_exporter": "python",
   "pygments_lexer": "ipython3",
   "version": "3.7.1"
  }
 },
 "nbformat": 4,
 "nbformat_minor": 2
}
