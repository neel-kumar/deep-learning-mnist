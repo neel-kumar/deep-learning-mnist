{
 "cells": [
  {
   "cell_type": "code",
   "execution_count": 1,
   "metadata": {},
   "outputs": [],
   "source": [
    "import torch\n",
    "import torch.nn.functional as F\n",
    "\n",
    "import matplotlib.pyplot as plt\n",
    "import matplotlib.image as mpimg\n",
    "import numpy as np\n",
    "import random"
   ]
  },
  {
   "cell_type": "code",
   "execution_count": 2,
   "metadata": {},
   "outputs": [],
   "source": [
    "# Taken from https://pytorch.org/tutorials/beginner/nn_tutorial.html\n",
    "from pathlib import Path\n",
    "import requests\n",
    "\n",
    "DATA_PATH = Path(\"data\")\n",
    "PATH = DATA_PATH / \"mnist\"\n",
    "\n",
    "PATH.mkdir(parents=True, exist_ok=True)\n",
    "\n",
    "URL = \"http://deeplearning.net/data/mnist/\"\n",
    "FILENAME = \"mnist.pkl.gz\"\n",
    "\n",
    "if not (PATH / FILENAME).exists():\n",
    "        content = requests.get(URL + FILENAME).content\n",
    "        (PATH / FILENAME).open(\"wb\").write(content)"
   ]
  },
  {
   "cell_type": "code",
   "execution_count": 3,
   "metadata": {},
   "outputs": [],
   "source": [
    "import pickle\n",
    "import gzip\n",
    "\n",
    "with gzip.open((PATH / FILENAME).as_posix(), \"rb\") as f:\n",
    "        mnist = pickle.load(f, encoding=\"latin-1\")"
   ]
  },
  {
   "cell_type": "code",
   "execution_count": 4,
   "metadata": {},
   "outputs": [],
   "source": [
    "(training, validation, test) = mnist"
   ]
  },
  {
   "cell_type": "code",
   "execution_count": 5,
   "metadata": {},
   "outputs": [],
   "source": [
    "x_train, y_train = torch.tensor(training[0]), torch.tensor(training[1])\n",
    "x_val, y_val = torch.tensor(validation[0]), torch.tensor(validation[1])\n",
    "x_test, y_test = torch.tensor(test[0]), torch.tensor(test[1])"
   ]
  },
  {
   "cell_type": "code",
   "execution_count": 6,
   "metadata": {},
   "outputs": [],
   "source": [
    "# Plot an image\n",
    "def image(im, x, y):\n",
    "    img = np.reshape(im, (x, y))\n",
    "    imgplot = plt.imshow(img, cmap = \"gray\")\n",
    "    plt.show()"
   ]
  },
  {
   "cell_type": "code",
   "execution_count": 7,
   "metadata": {},
   "outputs": [],
   "source": [
    "# Get a random image\n",
    "def traindata(t):\n",
    "    x = random.randint(0, 49999)\n",
    "    return t[0][x]"
   ]
  },
  {
   "cell_type": "code",
   "execution_count": 8,
   "metadata": {},
   "outputs": [],
   "source": [
    "# Find maximum value from a list\n",
    "def Max(l):\n",
    "    m = l[0]\n",
    "    for i in l:\n",
    "        if m < i:\n",
    "            m = i\n",
    "    return m"
   ]
  },
  {
   "cell_type": "code",
   "execution_count": 9,
   "metadata": {},
   "outputs": [],
   "source": [
    "# Max pool with 2x2 filter and stride 2\n",
    "def MaxPool2(img, img_x, img_y):\n",
    "    img = np.reshape(img, (img_x, img_y))\n",
    "    fin_x = img_x//2\n",
    "    fin_y = img_y//2\n",
    "    fin = np.zeros((fin_x, fin_y))\n",
    "    for i in range(0, fin_x):\n",
    "        for j in range(0, fin_y):\n",
    "            fin[i][j] = Max([img[i*2][j*2], img[i*2][j*2 + 1], img[i*2 + 1][j*2], img[i*2 + 1][j*2 + 1]])\n",
    "    fin = np.reshape(fin, (fin_x * fin_y,))\n",
    "    return fin"
   ]
  },
  {
   "cell_type": "code",
   "execution_count": 10,
   "metadata": {},
   "outputs": [
    {
     "data": {
      "image/png": "[encoded data removed]",
      "text/plain": [
       "<Figure size 432x288 with 1 Axes>"
      ]
     },
     "metadata": {
      "needs_background": "light"
     },
     "output_type": "display_data"
    },
    {
     "data": {
      "image/png": "[encoded data removed]",
      "text/plain": [
       "<Figure size 432x288 with 1 Axes>"
      ]
     },
     "metadata": {
      "needs_background": "light"
     },
     "output_type": "display_data"
    }
   ],
   "source": [
    "x = traindata(training)\n",
    "image(x, 28, 28)\n",
    "image(MaxPool2(x, 28, 28), 14, 14)"
   ]
  },
  {
   "cell_type": "code",
   "execution_count": 11,
   "metadata": {},
   "outputs": [],
   "source": [
    "# Calculate average value from a list.\n",
    "def Avg(l):\n",
    "    sum = 0\n",
    "    for i in l:\n",
    "        sum = sum + i\n",
    "    avg = sum/len(l)\n",
    "    return avg"
   ]
  },
  {
   "cell_type": "code",
   "execution_count": 12,
   "metadata": {},
   "outputs": [],
   "source": [
    "# Average pool with 2x2 filter and stride 2\n",
    "def AvgPool2(img, img_x, img_y):\n",
    "    img = np.reshape(img, (img_x, img_y))\n",
    "    fin_x = img_x//2\n",
    "    fin_y = img_y//2\n",
    "    fin = np.zeros((fin_x, fin_y))\n",
    "    for i in range(0, fin_x):\n",
    "        for j in range(0, fin_y):\n",
    "            fin[i][j] = Avg([img[i*2][j*2], img[i*2][j*2 + 1], img[i*2 + 1][j*2], img[i*2 + 1][j*2 + 1]])\n",
    "    fin = np.reshape(fin, (fin_x * fin_y,))\n",
    "    return fin"
   ]
  },
  {
   "cell_type": "code",
   "execution_count": 13,
   "metadata": {},
   "outputs": [
    {
     "data": {
      "image/png": "[encoded data removed]",
      "text/plain": [
       "<Figure size 432x288 with 1 Axes>"
      ]
     },
     "metadata": {
      "needs_background": "light"
     },
     "output_type": "display_data"
    },
    {
     "data": {
      "image/png": "[encoded data removed]",
      "text/plain": [
       "<Figure size 432x288 with 1 Axes>"
      ]
     },
     "metadata": {
      "needs_background": "light"
     },
     "output_type": "display_data"
    }
   ],
   "source": [
    "x = traindata(training)\n",
    "image(x, 28, 28)\n",
    "image(AvgPool2(x, 28, 28), 14, 14)"
   ]
  },
  {
   "cell_type": "code",
   "execution_count": 14,
   "metadata": {},
   "outputs": [],
   "source": [
    "# Convolution using 3x3 Kernel and stride 1.\n",
    "def Conv(img, img_x, img_y, K):\n",
    "    img = np.reshape(img, (img_x, img_y))\n",
    "    fin_x = img_x - 2\n",
    "    fin_y = img_y - 2\n",
    "    fin = np.zeros((fin_x, fin_y))\n",
    "    for i in range(0, fin_x):\n",
    "        for j in range(0, fin_y):\n",
    "            fin[i][j] = K[0][0]*img[i][j] + K[0][1]*img[i][j + 1] + K[0][2]*img[i][j + 2] + K[1][0]*img[i + 1][j] + K[1][1]*img[i + 1][j + 1] + K[1][2]*img[i + 1][j+2] + K[2][0]*img[i + 2][j] + K[2][1]*img[i + 2][j + 1] + K[2][2]*img[i + 2][j + 2]\n",
    "    fin = np.reshape(fin, (fin_x * fin_y,))\n",
    "    return fin"
   ]
  },
  {
   "cell_type": "code",
   "execution_count": 15,
   "metadata": {},
   "outputs": [],
   "source": [
    "# Implement ReLU for a list of numbers.\n",
    "def ReLU(a):\n",
    "    for i in range(0, len(a)):\n",
    "        if a[i] < 0:\n",
    "            a[i] = 0\n",
    "    return a"
   ]
  },
  {
   "cell_type": "code",
   "execution_count": 16,
   "metadata": {},
   "outputs": [
    {
     "name": "stdout",
     "output_type": "stream",
     "text": [
      "Original image.\n"
     ]
    },
    {
     "data": {
      "image/png": "[encoded data removed]",
      "text/plain": [
       "<Figure size 432x288 with 1 Axes>"
      ]
     },
     "metadata": {
      "needs_background": "light"
     },
     "output_type": "display_data"
    }
   ],
   "source": [
    "x = traindata(training)\n",
    "print(\"Original image.\")\n",
    "image(x, 28, 28)\n",
    "# Edge detection Kernels in https://en.wikipedia.org/wiki/Kernel_(image_processing)\n",
    "K1 = [[1, 0, -1], [0, 0, 0], [-1, 0, 1]]\n",
    "K2 = [[0, 1, 0], [1, -4, 1], [0, 1, 0]]\n",
    "K3 = [[-1, -1, -1], [-1, 8, -1], [-1, -1, -1]]"
   ]
  },
  {
   "cell_type": "code",
   "execution_count": 17,
   "metadata": {},
   "outputs": [
    {
     "name": "stdout",
     "output_type": "stream",
     "text": [
      "Conv image.\n"
     ]
    },
    {
     "data": {
      "image/png": "[encoded data removed]",
      "text/plain": [
       "<Figure size 432x288 with 1 Axes>"
      ]
     },
     "metadata": {
      "needs_background": "light"
     },
     "output_type": "display_data"
    },
    {
     "name": "stdout",
     "output_type": "stream",
     "text": [
      "Conv with ReLU image.\n"
     ]
    },
    {
     "data": {
      "image/png": "[encoded data removed]",
      "text/plain": [
       "<Figure size 432x288 with 1 Axes>"
      ]
     },
     "metadata": {
      "needs_background": "light"
     },
     "output_type": "display_data"
    }
   ],
   "source": [
    "conv = Conv(x, 28, 28, K1)\n",
    "print(\"Conv image.\")\n",
    "image(conv, 26, 26)\n",
    "print(\"Conv with ReLU image.\")\n",
    "image(ReLU(conv), 26, 26)"
   ]
  },
  {
   "cell_type": "code",
   "execution_count": 18,
   "metadata": {},
   "outputs": [
    {
     "name": "stdout",
     "output_type": "stream",
     "text": [
      "Conv image.\n"
     ]
    },
    {
     "data": {
      "image/png": "[encoded data removed]",
      "text/plain": [
       "<Figure size 432x288 with 1 Axes>"
      ]
     },
     "metadata": {
      "needs_background": "light"
     },
     "output_type": "display_data"
    },
    {
     "name": "stdout",
     "output_type": "stream",
     "text": [
      "Conv with ReLU image.\n"
     ]
    },
    {
     "data": {
      "image/png": "[encoded data removed]",
      "text/plain": [
       "<Figure size 432x288 with 1 Axes>"
      ]
     },
     "metadata": {
      "needs_background": "light"
     },
     "output_type": "display_data"
    }
   ],
   "source": [
    "conv = Conv(x, 28, 28, K2)\n",
    "print(\"Conv image.\")\n",
    "image(conv, 26, 26)\n",
    "print(\"Conv with ReLU image.\")\n",
    "image(ReLU(conv), 26, 26)"
   ]
  },
  {
   "cell_type": "code",
   "execution_count": 19,
   "metadata": {},
   "outputs": [
    {
     "name": "stdout",
     "output_type": "stream",
     "text": [
      "Conv image.\n"
     ]
    },
    {
     "data": {
      "image/png": "[encoded data removed]",
      "text/plain": [
       "<Figure size 432x288 with 1 Axes>"
      ]
     },
     "metadata": {
      "needs_background": "light"
     },
     "output_type": "display_data"
    },
    {
     "name": "stdout",
     "output_type": "stream",
     "text": [
      "Conv with ReLU image.\n"
     ]
    },
    {
     "data": {
      "image/png": "[encoded data removed]",
      "text/plain": [
       "<Figure size 432x288 with 1 Axes>"
      ]
     },
     "metadata": {
      "needs_background": "light"
     },
     "output_type": "display_data"
    }
   ],
   "source": [
    "conv = Conv(x, 28, 28, K3)\n",
    "print(\"Conv image.\")\n",
    "image(conv, 26, 26)\n",
    "print(\"Conv with ReLU image.\")\n",
    "image(ReLU(conv), 26, 26)"
   ]
  }
 ],
 "metadata": {
  "kernelspec": {
   "display_name": "Python 3",
   "language": "python",
   "name": "python3"
  },
  "language_info": {
   "codemirror_mode": {
    "name": "ipython",
    "version": 3
   },
   "file_extension": ".py",
   "mimetype": "text/x-python",
   "name": "python",
   "nbconvert_exporter": "python",
   "pygments_lexer": "ipython3",
   "version": "3.7.1"
  }
 },
 "nbformat": 4,
 "nbformat_minor": 2
}
