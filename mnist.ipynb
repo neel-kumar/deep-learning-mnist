{
 "cells": [
  {
   "cell_type": "code",
   "execution_count": 1,
   "metadata": {},
   "outputs": [],
   "source": [
    "import pickle\n",
    "import torch\n",
    "import torch.nn.functional as F\n",
    "\n",
    "import matplotlib.pyplot as plt\n",
    "import matplotlib.image as mpimg\n",
    "import numpy as np\n",
    "import random"
   ]
  },
  {
   "cell_type": "code",
   "execution_count": 2,
   "metadata": {},
   "outputs": [],
   "source": [
    "# Taken from https://pytorch.org/tutorials/beginner/nn_tutorial.html\n",
    "from pathlib import Path\n",
    "import requests\n",
    "\n",
    "DATA_PATH = Path(\"data\")\n",
    "PATH = DATA_PATH / \"mnist\"\n",
    "\n",
    "PATH.mkdir(parents=True, exist_ok=True)\n",
    "\n",
    "URL = \"http://deeplearning.net/data/mnist/\"\n",
    "FILENAME = \"mnist.pkl.gz\"\n",
    "\n",
    "if not (PATH / FILENAME).exists():\n",
    "        content = requests.get(URL + FILENAME).content\n",
    "        (PATH / FILENAME).open(\"wb\").write(content)"
   ]
  },
  {
   "cell_type": "code",
   "execution_count": 3,
   "metadata": {},
   "outputs": [],
   "source": [
    "import gzip\n",
    "\n",
    "with gzip.open((PATH / FILENAME).as_posix(), \"rb\") as f:\n",
    "        mnist = pickle.load(f, encoding=\"latin-1\")"
   ]
  },
  {
   "cell_type": "code",
   "execution_count": 4,
   "metadata": {},
   "outputs": [],
   "source": [
    "(training, validation, test) = mnist\n",
    " \n",
    "_train, y_train = torch.tensor(training[0]), torch.tensor(training[1])\n",
    "x_val, y_val = torch.tensor(validation[0]), torch.tensor(validation[1])\n",
    "x_test, y_test = torch.tensor(test[0]), torch.tensor(test[1])"
   ]
  },
  {
   "cell_type": "code",
   "execution_count": 5,
   "metadata": {},
   "outputs": [],
   "source": [
    "x_train, y_train = torch.tensor(training[0]), torch.tensor(training[1])\n",
    "x_val, y_val = torch.tensor(validation[0]), torch.tensor(validation[1])\n",
    "x_test, y_test = torch.tensor(test[0]), torch.tensor(test[1])"
   ]
  },
  {
   "cell_type": "code",
   "execution_count": 6,
   "metadata": {},
   "outputs": [
    {
     "data": {
      "text/plain": [
       "50000"
      ]
     },
     "execution_count": 6,
     "metadata": {},
     "output_type": "execute_result"
    }
   ],
   "source": [
    "len(training[0])"
   ]
  },
  {
   "cell_type": "code",
   "execution_count": 7,
   "metadata": {},
   "outputs": [
    {
     "data": {
      "text/plain": [
       "784"
      ]
     },
     "execution_count": 7,
     "metadata": {},
     "output_type": "execute_result"
    }
   ],
   "source": [
    "len(training[0][0])"
   ]
  },
  {
   "cell_type": "code",
   "execution_count": 8,
   "metadata": {},
   "outputs": [],
   "source": [
    "def image(a):\n",
    "    img = np.reshape(a, (28, 28))\n",
    "    imgplot = plt.imshow(img, cmap = \"gray\")\n",
    "    plt.show()"
   ]
  },
  {
   "cell_type": "code",
   "execution_count": 9,
   "metadata": {},
   "outputs": [
    {
     "data": {
      "image/png": "[encoded data removed]",
      "text/plain": [
       "<Figure size 432x288 with 1 Axes>"
      ]
     },
     "metadata": {
      "needs_background": "light"
     },
     "output_type": "display_data"
    }
   ],
   "source": [
    "image(training[0][0])"
   ]
  },
  {
   "cell_type": "code",
   "execution_count": 10,
   "metadata": {},
   "outputs": [
    {
     "data": {
      "text/plain": [
       "5"
      ]
     },
     "execution_count": 10,
     "metadata": {},
     "output_type": "execute_result"
    }
   ],
   "source": [
    "training[1][0]"
   ]
  },
  {
   "cell_type": "code",
   "execution_count": 11,
   "metadata": {},
   "outputs": [],
   "source": [
    "def err(out, label):\n",
    "    match = out.argmax(dim=1) != label\n",
    "    a = match.float().mean()\n",
    "    return a"
   ]
  },
  {
   "cell_type": "code",
   "execution_count": 12,
   "metadata": {},
   "outputs": [],
   "source": [
    "def traindata(t):\n",
    "    x = random.randint(0, 49999)\n",
    "    image(t[0][x])\n",
    "    print('Label:', t[1][x])"
   ]
  },
  {
   "cell_type": "code",
   "execution_count": 13,
   "metadata": {},
   "outputs": [
    {
     "data": {
      "image/png": "[encoded data removed]",
      "text/plain": [
       "<Figure size 432x288 with 1 Axes>"
      ]
     },
     "metadata": {
      "needs_background": "light"
     },
     "output_type": "display_data"
    },
    {
     "name": "stdout",
     "output_type": "stream",
     "text": [
      "Label: 1\n"
     ]
    }
   ],
   "source": [
    "traindata(training)"
   ]
  },
  {
   "cell_type": "code",
   "execution_count": 14,
   "metadata": {},
   "outputs": [],
   "source": [
    "loss_func = F.cross_entropy"
   ]
  },
  {
   "cell_type": "code",
   "execution_count": 15,
   "metadata": {},
   "outputs": [],
   "source": [
    "b1 = torch.randn(1, 16, requires_grad=True)\n",
    "b2 = torch.randn(1, 16, requires_grad=True)\n",
    "b3 = torch.randn(1, 10, requires_grad=True)\n",
    "w1 = torch.randn(784, 16, requires_grad=True)\n",
    "w2 = torch.randn(16, 16, requires_grad=True)\n",
    "w3 = torch.randn(16, 10, requires_grad=True)"
   ]
  },
  {
   "cell_type": "code",
   "execution_count": 16,
   "metadata": {},
   "outputs": [],
   "source": [
    "# 3 fully connected layers 784 x 16 x 10\n",
    "# This model is running on CPU not GPU\n",
    "def model(d):\n",
    "    # d is a tensor of 1 by 784\n",
    "    l1 = d @ w1 + b1\n",
    "    l2 = l1 @ w2 + b2\n",
    "    l_out = l2 @ w3 + b3\n",
    "    return l_out"
   ]
  },
  {
   "cell_type": "code",
   "execution_count": 17,
   "metadata": {},
   "outputs": [],
   "source": [
    "def zero_grad():\n",
    "    global b1, b2, b3, w1, w2, w3\n",
    "    b1.grad.zero_()\n",
    "    b2.grad.zero_()\n",
    "    b3.grad.zero_()\n",
    "    w1.grad.zero_()\n",
    "    w2.grad.zero_()\n",
    "    w3.grad.zero_()"
   ]
  },
  {
   "cell_type": "code",
   "execution_count": 18,
   "metadata": {},
   "outputs": [],
   "source": [
    "def accuracy(out, label):\n",
    "    match = out.argmax(dim=1) == label\n",
    "    a = match.float().mean()\n",
    "    return a\n",
    "\n",
    "def err(out, label):\n",
    "    match = out.argmax(dim=1) != label\n",
    "    a = match.float().mean()\n",
    "    return a"
   ]
  },
  {
   "cell_type": "code",
   "execution_count": 19,
   "metadata": {},
   "outputs": [],
   "source": [
    "lr = 0.01\n",
    "epochs = 100\n",
    "bs = 64\n",
    "n = len(x_train)"
   ]
  },
  {
   "cell_type": "code",
   "execution_count": 21,
   "metadata": {},
   "outputs": [
    {
     "name": "stdout",
     "output_type": "stream",
     "text": [
      "Initial acc 0.08579999953508377\n"
     ]
    }
   ],
   "source": [
    "with torch.no_grad():\n",
    "    pred = model(x_val)\n",
    "    print(f'Initial acc {accuracy(pred, y_val)}')"
   ]
  },
  {
   "cell_type": "code",
   "execution_count": 22,
   "metadata": {},
   "outputs": [],
   "source": [
    "def fit():\n",
    "    global b1, b2, b3, w1, w2, w3\n",
    "    for e in range(epochs):\n",
    "        for i in range(int((n - 1)/bs) + 1):\n",
    "            start = bs * i\n",
    "            end = bs * (i + 1)\n",
    "            xb = x_train[start:end]\n",
    "            yb = y_train[start:end]\n",
    "            pred = model(xb)\n",
    "            loss = loss_func(pred, yb)\n",
    "            loss.backward()\n",
    "        \n",
    "            with torch.no_grad():\n",
    "                b1 -= b1.grad * lr\n",
    "                b2 -= b2.grad * lr\n",
    "                b3 -= b3.grad * lr\n",
    "                w1 -= w1.grad * lr\n",
    "                w2 -= w2.grad * lr\n",
    "                w3 -= w3.grad * lr\n",
    "        \n",
    "                zero_grad()\n",
    "        if e % 10 == 0:\n",
    "            print(f'Epoch {e} acc {accuracy(model(x_val), y_val)}')\n",
    "\n",
    "    print(f'Final acc {accuracy(model(x_val), y_val)}')"
   ]
  },
  {
   "cell_type": "code",
   "execution_count": 23,
   "metadata": {},
   "outputs": [
    {
     "name": "stdout",
     "output_type": "stream",
     "text": [
      "Epoch 0 acc 0.5543000102043152\n",
      "Epoch 10 acc 0.7110000252723694\n",
      "Epoch 20 acc 0.7703999876976013\n",
      "Epoch 30 acc 0.810699999332428\n",
      "Epoch 40 acc 0.8374999761581421\n",
      "Epoch 50 acc 0.8547000288963318\n",
      "Epoch 60 acc 0.8646000027656555\n",
      "Epoch 70 acc 0.8716999888420105\n",
      "Epoch 80 acc 0.8776999711990356\n",
      "Epoch 90 acc 0.8804000020027161\n",
      "Final acc 0.8835999965667725\n"
     ]
    }
   ],
   "source": [
    "fit()"
   ]
  },
  {
   "cell_type": "code",
   "execution_count": 26,
   "metadata": {},
   "outputs": [
    {
     "name": "stdout",
     "output_type": "stream",
     "text": [
      "actual 7 pred 7\n"
     ]
    }
   ],
   "source": [
    "# Test model on a random sample\n",
    "i = random.randint(0, 49999)\n",
    "pred = model(x_train[i])\n",
    "print(f\"actual {y_train[i]} pred {pred.argmax()}\")"
   ]
  },
  {
   "cell_type": "code",
   "execution_count": 29,
   "metadata": {},
   "outputs": [
    {
     "data": {
      "text/plain": [
       "tensor(0.8720)"
      ]
     },
     "execution_count": 29,
     "metadata": {},
     "output_type": "execute_result"
    }
   ],
   "source": [
    "# Average accuray for complete dataset\n",
    "pred = model(x_train)\n",
    "match = pred.argmax(dim=1) == y_train\n",
    "match.float().mean()"
   ]
  },
  {
   "cell_type": "code",
   "execution_count": 30,
   "metadata": {},
   "outputs": [],
   "source": [
    "# Welcome to the world of torch.nn.Module to simplify model and parameter management\n",
    "\n",
    "from torch import nn\n",
    "\n",
    "class Mnist_NN(nn.Module):\n",
    "    def __init__(self):\n",
    "        super().__init__()\n",
    "        self.b1 = nn.Parameter(torch.randn(1, 16, requires_grad=True))\n",
    "        self.b2 = nn.Parameter(torch.randn(1, 16, requires_grad=True))\n",
    "        self.b3 = nn.Parameter(torch.randn(1, 10, requires_grad=True))\n",
    "        self.w1 = nn.Parameter(torch.randn(784, 16, requires_grad=True))\n",
    "        self.w2 = nn.Parameter(torch.randn(16, 16, requires_grad=True))\n",
    "        self.w3 = nn.Parameter(torch.randn(16, 10, requires_grad=True))\n",
    "\n",
    "    def forward(self, d):\n",
    "        l1 = d @ self.w1 + self.b1\n",
    "        l2 = l1 @ self.w2 + self.b2\n",
    "        l_out = l2 @ self.w3 + self.b3\n",
    "        return l_out"
   ]
  },
  {
   "cell_type": "code",
   "execution_count": 31,
   "metadata": {},
   "outputs": [],
   "source": [
    "def fit2():\n",
    "    for e in range(epochs):\n",
    "        for i in range(int((n - 1)/bs) + 1):\n",
    "            start = bs * i\n",
    "            end = bs * (i + 1)\n",
    "            xb = x_train[start:end]\n",
    "            yb = y_train[start:end]\n",
    "            pred = model(xb)\n",
    "            loss = loss_func(pred, yb)\n",
    "            loss.backward()\n",
    "        \n",
    "            with torch.no_grad():\n",
    "                for p in model.parameters():\n",
    "                    p -= p.grad * lr\n",
    "                model.zero_grad()\n",
    "        if e % 10 == 0:\n",
    "            print(f'Epoch {e} acc {accuracy(model(x_val), y_val)}')\n",
    "\n",
    "    print(f'Final acc {accuracy(model(x_val), y_val)}')"
   ]
  },
  {
   "cell_type": "code",
   "execution_count": 32,
   "metadata": {},
   "outputs": [],
   "source": [
    "model = Mnist_NN()"
   ]
  },
  {
   "cell_type": "code",
   "execution_count": 33,
   "metadata": {},
   "outputs": [
    {
     "name": "stdout",
     "output_type": "stream",
     "text": [
      "Epoch 0 acc 0.44769999384880066\n",
      "Epoch 10 acc 0.730400025844574\n",
      "Epoch 20 acc 0.7883999943733215\n",
      "Epoch 30 acc 0.8162000179290771\n",
      "Epoch 40 acc 0.8338000178337097\n",
      "Epoch 50 acc 0.8479999899864197\n",
      "Epoch 60 acc 0.8572999835014343\n",
      "Epoch 70 acc 0.867900013923645\n",
      "Epoch 80 acc 0.8748999834060669\n",
      "Epoch 90 acc 0.8823000192642212\n",
      "Final acc 0.8853999972343445\n"
     ]
    }
   ],
   "source": [
    "fit2()"
   ]
  },
  {
   "cell_type": "code",
   "execution_count": 34,
   "metadata": {},
   "outputs": [
    {
     "data": {
      "text/plain": [
       "device(type='cuda')"
      ]
     },
     "execution_count": 34,
     "metadata": {},
     "output_type": "execute_result"
    }
   ],
   "source": [
    "dev = torch.device(\n",
    "    \"cuda\") if torch.cuda.is_available() else torch.device(\"cpu\")\n",
    "\n",
    "# dev = torch.device(\"cuda\")\n",
    "# dev = torch.device(\"cpu\")\n",
    "\n",
    "dev"
   ]
  },
  {
   "cell_type": "code",
   "execution_count": 35,
   "metadata": {},
   "outputs": [],
   "source": [
    "# Now run the model using GPU\n",
    "model_dev = Mnist_NN().to(dev)\n",
    "\n",
    "x_test_dev = x_test.to(dev)\n",
    "y_test_dev = y_test.to(dev)\n",
    "\n",
    "x_val_dev = x_val.to(dev)\n",
    "y_val_dev = y_val.to(dev)\n",
    "\n",
    "x_train_dev = x_train.to(dev)\n",
    "y_train_dev = y_train.to(dev)"
   ]
  },
  {
   "cell_type": "code",
   "execution_count": 36,
   "metadata": {},
   "outputs": [],
   "source": [
    "def fit3():\n",
    "    for e in range(epochs):\n",
    "        for i in range(int((n - 1)/bs) + 1):\n",
    "            start = bs * i\n",
    "            end = bs * (i + 1)\n",
    "            xb = x_train[start:end].to(dev)\n",
    "            yb = y_train[start:end].to(dev)\n",
    "            pred = model_dev(xb)\n",
    "            loss = loss_func(pred, yb)\n",
    "            loss.backward()\n",
    "        \n",
    "            with torch.no_grad():\n",
    "                for p in model_dev.parameters():\n",
    "                    p -= p.grad * lr\n",
    "                model_dev.zero_grad()\n",
    "        if e % 10 == 0:\n",
    "            print(f'Epoch {e} acc test {accuracy(model_dev(x_test_dev), y_test_dev)}')\n",
    "            print(f'Epoch {e} acc val {accuracy(model_dev(x_val_dev), y_val_dev)}')\n",
    "            print(f'Epoch {e} acc train {accuracy(model_dev(x_train_dev), y_train_dev)}')\n",
    "\n",
    "    print(f'Final acc test {accuracy(model_dev(x_test_dev), y_test_dev)}')\n",
    "    print(f'Final acc val {accuracy(model_dev(x_val_dev), y_val_dev)}')\n",
    "    print(f'Final acc train {accuracy(model_dev(x_train_dev), y_train_dev)}')"
   ]
  },
  {
   "cell_type": "code",
   "execution_count": 37,
   "metadata": {},
   "outputs": [
    {
     "name": "stdout",
     "output_type": "stream",
     "text": [
      "Epoch 0 acc test 0.5210999846458435\n",
      "Epoch 0 acc val 0.5374999642372131\n",
      "Epoch 0 acc train 0.517520010471344\n",
      "Epoch 10 acc test 0.6956999897956848\n",
      "Epoch 10 acc val 0.7105000019073486\n",
      "Epoch 10 acc train 0.6912199854850769\n",
      "Epoch 20 acc test 0.774899959564209\n",
      "Epoch 20 acc val 0.7876999974250793\n",
      "Epoch 20 acc train 0.7666800022125244\n",
      "Epoch 30 acc test 0.8130999803543091\n",
      "Epoch 30 acc val 0.821899950504303\n",
      "Epoch 30 acc train 0.8048399686813354\n",
      "Epoch 40 acc test 0.833299994468689\n",
      "Epoch 40 acc val 0.8387999534606934\n",
      "Epoch 40 acc train 0.8258199691772461\n",
      "Epoch 50 acc test 0.8477999567985535\n",
      "Epoch 50 acc val 0.8526999950408936\n",
      "Epoch 50 acc train 0.8392799496650696\n",
      "Epoch 60 acc test 0.8571999669075012\n",
      "Epoch 60 acc val 0.8625999689102173\n",
      "Epoch 60 acc train 0.8502599596977234\n",
      "Epoch 70 acc test 0.8660999536514282\n",
      "Epoch 70 acc val 0.8698999881744385\n",
      "Epoch 70 acc train 0.8587799668312073\n",
      "Epoch 80 acc test 0.8720999956130981\n",
      "Epoch 80 acc val 0.8763999938964844\n",
      "Epoch 80 acc train 0.8654399514198303\n",
      "Epoch 90 acc test 0.8772000074386597\n",
      "Epoch 90 acc val 0.8807999491691589\n",
      "Epoch 90 acc train 0.8714999556541443\n",
      "Final acc test 0.8815000057220459\n",
      "Final acc val 0.884399950504303\n",
      "Final acc train 0.8752999901771545\n"
     ]
    }
   ],
   "source": [
    "fit3()"
   ]
  },
  {
   "cell_type": "code",
   "execution_count": 38,
   "metadata": {},
   "outputs": [],
   "source": [
    "x = np.linspace(0, 101, 101)\n",
    "test_y_dev = torch.zeros(101, device=dev)\n",
    "val_y_dev = torch.zeros(101, device=dev)\n",
    "train_y_dev = torch.zeros(101, device=dev)"
   ]
  },
  {
   "cell_type": "code",
   "execution_count": 39,
   "metadata": {},
   "outputs": [],
   "source": [
    "# Train the model on GPU and keep track of accuracy on test, validation and training dataset to plot the trend\n",
    "model_dev = Mnist_NN().to(dev)\n",
    "def fit4():\n",
    "    test_y_dev[0] = accuracy(model_dev(x_test_dev), y_test_dev)\n",
    "    val_y_dev[0] = accuracy(model_dev(x_val_dev), y_val_dev)\n",
    "    train_y_dev[0] = accuracy(model_dev(x_train_dev), y_train_dev)\n",
    "    for e in range(epochs):\n",
    "        for i in range(int((n - 1)/bs) + 1):\n",
    "            start = bs * i\n",
    "            end = bs * (i + 1)\n",
    "            xb = x_train[start:end].to(dev)\n",
    "            yb = y_train[start:end].to(dev)\n",
    "            pred = model_dev(xb)\n",
    "            loss = loss_func(pred, yb)\n",
    "            loss.backward()\n",
    "        \n",
    "            with torch.no_grad():\n",
    "                for p in model_dev.parameters():\n",
    "                    p -= p.grad * lr\n",
    "                model_dev.zero_grad()\n",
    "                \n",
    "        with torch.no_grad():\n",
    "            test_y_dev[e + 1] = accuracy(model_dev(x_test_dev), y_test_dev)\n",
    "            val_y_dev[e + 1] = accuracy(model_dev(x_val_dev), y_val_dev)\n",
    "            train_y_dev[e + 1] = accuracy(model_dev(x_train_dev), y_train_dev)\n",
    "        \n",
    "    plt.plot(x, test_y_dev.cpu().numpy(), label='test')\n",
    "    plt.plot(x, val_y_dev.cpu().numpy(), label='val')\n",
    "    plt.plot(x, train_y_dev.cpu().numpy(), label='train')\n",
    "    plt.xlabel('epochs')\n",
    "    plt.ylabel('acc')\n",
    "    plt.title(\"Simple Plot\")\n",
    "    plt.legend()\n",
    "    plt.show()"
   ]
  },
  {
   "cell_type": "code",
   "execution_count": 40,
   "metadata": {},
   "outputs": [
    {
     "data": {
      "image/png": "[encoded data removed]",
      "text/plain": [
       "<Figure size 432x288 with 1 Axes>"
      ]
     },
     "metadata": {
      "needs_background": "light"
     },
     "output_type": "display_data"
    }
   ],
   "source": [
    "fit4()"
   ]
  },
  {
   "cell_type": "code",
   "execution_count": 42,
   "metadata": {},
   "outputs": [
    {
     "name": "stdout",
     "output_type": "stream",
     "text": [
      "Final acc test 0.8795999884605408\n",
      "Final acc val 0.8801999688148499\n",
      "Final acc train 0.8711400032043457\n"
     ]
    }
   ],
   "source": [
    "print(f'Final acc test {test_y_dev[100]}')\n",
    "print(f'Final acc val {val_y_dev[100]}')\n",
    "print(f'Final acc train {train_y_dev[100]}')"
   ]
  },
  {
   "cell_type": "code",
   "execution_count": 43,
   "metadata": {},
   "outputs": [],
   "source": [
    "# The accuracy is close to 90%, I will try to increase the accuracy using CNN in a different notebook."
   ]
  },
  {
   "cell_type": "code",
   "execution_count": null,
   "metadata": {},
   "outputs": [],
   "source": []
  }
 ],
 "metadata": {
  "kernelspec": {
   "display_name": "Python 3",
   "language": "python",
   "name": "python3"
  },
  "language_info": {
   "codemirror_mode": {
    "name": "ipython",
    "version": 3
   },
   "file_extension": ".py",
   "mimetype": "text/x-python",
   "name": "python",
   "nbconvert_exporter": "python",
   "pygments_lexer": "ipython3",
   "version": "3.7.1"
  }
 },
 "nbformat": 4,
 "nbformat_minor": 2
}
